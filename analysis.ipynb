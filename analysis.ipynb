{
 "cells": [
  {
   "cell_type": "code",
   "execution_count": null,
   "metadata": {
    "pycharm": {
     "name": "#%%\n"
    }
   },
   "outputs": [],
   "source": [
    "from PIL import Image\n",
    "from vangogh.evolution import Evolution\n",
    "from vangogh.fitness import draw_voronoi_image\n",
    "from vangogh.util import IMAGE_SHRINK_SCALE, REFERENCE_IMAGE\n",
    "from IPython.display import display, clear_output\n",
    "import numpy as np\n",
    "import pandas as pd\n",
    "import seaborn as sns\n",
    "import matplotlib.pyplot as plt\n",
    "from time import time\n",
    "from mpl_toolkits.axes_grid1 import ImageGrid\n",
    "plt.style.use('classic')\n",
    "%matplotlib inline\n",
    "\n",
    "from multiprocess import Pool, cpu_count"
   ]
  },
  {
   "cell_type": "code",
   "execution_count": null,
   "metadata": {},
   "outputs": [],
   "source": [
    "display(REFERENCE_IMAGE)"
   ]
  },
  {
   "cell_type": "code",
   "execution_count": null,
   "metadata": {},
   "outputs": [],
   "source": [
    "# Enable to show live rendering of best individual during optimization\n",
    "display_output = False\n",
    "# Enable to save progress images at every 50th generation\n",
    "save_progress = True\n",
    "# Enable to print verbose output per generation\n",
    "verbose_output = True"
   ]
  },
  {
   "cell_type": "code",
   "execution_count": null,
   "metadata": {},
   "outputs": [],
   "source": [
    "def reporter(time, evo):\n",
    "    if save_progress or display_output:\n",
    "        elite = draw_voronoi_image(evo.elite, evo.reference_image.width, evo.reference_image.height, scale=IMAGE_SHRINK_SCALE)\n",
    "    if display_output:\n",
    "        clear_output()\n",
    "        display(elite)\n",
    "    if save_progress and time[\"num-generations\"] % 50 == 0:\n",
    "        elite.save(f\"./img/van_gogh_intermediate_{evo.seed}_{evo.population_size}_{evo.crossover_method}_{evo.num_points}_{evo.initialization}_{evo.generation_budget}_{time['num-generations']:05d}.png\")\n",
    "\n",
    "def run_algorithm(settings):\n",
    "    seed, population_size, crossover_method, num_points, initialization, mutation, selection, generation_budget = settings\n",
    "    start = time()\n",
    "    \n",
    "    data = []\n",
    "    evo = Evolution(num_points,\n",
    "                    REFERENCE_IMAGE,\n",
    "                    population_size=population_size,\n",
    "                    generation_reporter=reporter,\n",
    "                    crossover_method=crossover_method,\n",
    "                    seed=seed,\n",
    "                    initialization=initialization,\n",
    "                    generation_budget=generation_budget,\n",
    "                    num_features_mutation_strength=.25,\n",
    "                    mutation_method=mutation,\n",
    "                    selection_name=selection,\n",
    "                    verbose=verbose_output)\n",
    "    data = evo.run()\n",
    "    time_spent = time() - start\n",
    "    print(f\"Done: run {seed} - pop {population_size} - crossover {crossover_method} - num. points {num_points} - initialization {initialization} - in {int(time_spent)} seconds\")\n",
    "    \n",
    "    return data"
   ]
  },
  {
   "attachments": {},
   "cell_type": "markdown",
   "metadata": {},
   "source": [
    "## Running a single instance"
   ]
  },
  {
   "attachments": {},
   "cell_type": "markdown",
   "metadata": {},
   "source": [
    "## Running a sweep of settings"
   ]
  },
  {
   "cell_type": "code",
   "execution_count": null,
   "metadata": {
    "scrolled": true
   },
   "outputs": [],
   "source": [
    "%%time\n",
    "\n",
    "generation_budget = 500\n",
    " \n",
    "data = []\n",
    "for seed in range(1):\n",
    "    for population_size in (100, 300,):\n",
    "        for crossover_method in (\"UNIFORM\",):\n",
    "            for initialization in (\"CLUSTER\", \"QUASIRANDOM\", \"LHS\", \"MATCH\"):\n",
    "                for mutation in (\"GAUSSIAN\", \"SHRINK\",):\n",
    "                    for selection in (\"tournament_4\", \"roulette_wheel\", \"rank\"):\n",
    "                        for num_points in (100,):\n",
    "                            data.extend(run_algorithm((seed, population_size, crossover_method, num_points, initialization, mutation, selection, generation_budget)))"
   ]
  },
  {
   "attachments": {},
   "cell_type": "markdown",
   "metadata": {},
   "source": [
    "## Evaluating the results"
   ]
  },
  {
   "attachments": {},
   "cell_type": "markdown",
   "metadata": {},
   "source": [
    "## Running a sweep of settings"
   ]
  },
  {
   "cell_type": "code",
   "execution_count": null,
   "metadata": {
    "pycharm": {
     "name": "#%%\n"
    }
   },
   "outputs": [],
   "source": [
    "df = pd.DataFrame(data)\n",
    "df[\"time-elapsed\"] = df[\"time-elapsed\"].round(0)"
   ]
  },
  {
   "cell_type": "code",
   "execution_count": null,
   "metadata": {},
   "outputs": [],
   "source": [
    "num_simulations = len(df) // generation_budget\n",
    "\n",
    "print(df.head())\n",
    "\n",
    "# Iterate over the simulations and create separate DataFrames\n",
    "simulations = {}\n",
    "for i in range(num_simulations):\n",
    "    start_index = i * 500\n",
    "    end_index = (i + 1) * 500\n",
    "    simulations[f\"sim{i}\"] = df[start_index:end_index]\n",
    "\n",
    "for simulation_id, simulation_data in simulations.items():\n",
    "    if(simulation_data[\"population-size\"].unique()[0] in (100,) \n",
    "       and simulation_data[\"mutation-method\"].unique()[0] in (\"GAUSSIAN\",) and simulation_data[\"initialization\"].unique()[0] in (\"MATCH\",)\n",
    "       and simulation_data[\"selection\"].unique()[0] in (\"tournament_4\",)):\n",
    "        plt.plot(simulation_data[\"num-generations\"], simulation_data[\"best-fitness\"], label=(simulation_data[\"initialization\"].unique()[0]+\":\"+\n",
    "                                                                                            str(simulation_data[\"population-size\"].unique()[0])+\":\"+\n",
    "                                                                                            simulation_data[\"mutation-method\"].unique()[0]+\":\"+\n",
    "                                                                                            simulation_data[\"selection\"].unique()[0]))\n",
    "plt.legend()\n",
    "plt.show()"
   ]
  },
  {
   "cell_type": "code",
   "execution_count": null,
   "metadata": {},
   "outputs": [],
   "source": []
  },
  {
   "attachments": {},
   "cell_type": "markdown",
   "metadata": {},
   "source": [
    "## Displaying the best instances over time"
   ]
  },
  {
   "cell_type": "code",
   "execution_count": null,
   "metadata": {},
   "outputs": [],
   "source": [
    "def show_progress_over_time(settings, selection=None, grid=(5,4)):\n",
    "    seed, population_size, crossover_method, num_points, initialization, generation_budget = settings\n",
    "    fig = plt.figure(figsize=(20., 20.))\n",
    "    grid = ImageGrid(fig, 111, \n",
    "                     nrows_ncols=grid,\n",
    "                     axes_pad=0.1,  # pad between axes\n",
    "                     )\n",
    "\n",
    "    if selection is None:\n",
    "        selection = range(50, generation_budget + 50, 50)\n",
    "    \n",
    "    img_arr = [Image.open((f\"./img/van_gogh_intermediate_{seed}_{population_size}_{crossover_method}_{num_points}_{initialization}_{generation_budget}_{i:05d}.png\")) for i in selection]\n",
    "    for ax, im in zip(grid, img_arr):\n",
    "        ax.imshow(im)\n",
    "        ax.get_xaxis().set_visible(False)\n",
    "        ax.get_yaxis().set_visible(False)\n",
    "\n",
    "    plt.show()"
   ]
  },
  {
   "cell_type": "code",
   "execution_count": null,
   "metadata": {},
   "outputs": [],
   "source": [
    "show_progress_over_time((0, 100, 'ONE_POINT', 100, \"RANDOM\", 500), grid=(1,5))"
   ]
  },
  {
   "cell_type": "code",
   "execution_count": null,
   "metadata": {
    "scrolled": true
   },
   "outputs": [],
   "source": [
    "%%time\n",
    "# data = run_algorithm((0, 100, \"UNIFORM\", 100, 'RANDOM', 500))"
   ]
  }
 ],
 "metadata": {
  "kernelspec": {
   "display_name": "Python 3",
   "language": "python",
   "name": "python3"
  },
  "language_info": {
   "codemirror_mode": {
    "name": "ipython",
    "version": 3
   },
   "file_extension": ".py",
   "mimetype": "text/x-python",
   "name": "python",
   "nbconvert_exporter": "python",
   "pygments_lexer": "ipython3",
   "version": "3.10.6"
  }
 },
 "nbformat": 4,
 "nbformat_minor": 1
}
